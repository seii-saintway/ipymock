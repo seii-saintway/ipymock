{
 "cells": [
  {
   "cell_type": "code",
   "execution_count": null,
   "metadata": {},
   "outputs": [],
   "source": [
    "# default_exp nlp"
   ]
  },
  {
   "cell_type": "markdown",
   "metadata": {},
   "source": [
    "# Annotating Kanji with Hiragana\n",
    "\n",
    "> Using [Morphological Analyzer JUMAN++ and Syntactic Analyzer KNP](https://github.com/ku-nlp/pyknp)"
   ]
  },
  {
   "cell_type": "markdown",
   "metadata": {},
   "source": [
    "Install [JUMAN++](https://github.com/ku-nlp/jumanpp)\n",
    "\n",
    "```bash\n",
    "pip install pyknp\n",
    "```"
   ]
  },
  {
   "cell_type": "code",
   "execution_count": null,
   "metadata": {},
   "outputs": [],
   "source": [
    "# exporti\n",
    "from pyknp import Juman"
   ]
  },
  {
   "cell_type": "code",
   "execution_count": null,
   "metadata": {},
   "outputs": [],
   "source": [
    "# export\n",
    "def is_halfwidth(text):\n",
    "    \"\"\"\n",
    "    Determine whether the text consists entirely of halfwidth characters.\n",
    "    :param text: Input text string\n",
    "    :return: True if all characters are halfwidth, otherwise False\n",
    "    \"\"\"\n",
    "    return all('\\u0020' <= char <= '\\u007E' or '\\uFF61' <= char <= '\\uFF9F' for char in text)\n",
    "\n",
    "def halfwidth_to_fullwidth(text):\n",
    "    result = ''\n",
    "    for char in text:\n",
    "        code = ord(char)\n",
    "        if code == ord(' '):\n",
    "            result += '　'\n",
    "        elif ord('!') <= code <= ord('~'):\n",
    "            # Convert ASCII characters in the range 0x0021 to 0x007E\n",
    "            result += chr(code + 0xFEE0)\n",
    "        else:\n",
    "            result += char\n",
    "    return result\n",
    "\n",
    "def annotate(text):\n",
    "    juman = Juman()\n",
    "    for line in text.split('\\n'):\n",
    "        if line == '':\n",
    "            yield '\\n'\n",
    "            continue\n",
    "        mrphs = juman.analysis(line).mrph_list()\n",
    "        for mrph in mrphs:\n",
    "            if mrph.midasi == '\\\\␣':\n",
    "                yield ' '\n",
    "                continue\n",
    "            if is_halfwidth(mrph.midasi):\n",
    "                yield mrph.midasi\n",
    "                continue\n",
    "            if mrph.midasi == mrph.yomi:\n",
    "                yield mrph.midasi\n",
    "                continue\n",
    "            yield f'<ruby>{mrph.midasi}<rt>{mrph.yomi}</rt></ruby>'\n",
    "        yield '\\n'"
   ]
  },
  {
   "cell_type": "markdown",
   "metadata": {},
   "source": [
    "```bash\n",
    "pip install beautifulsoup4\n",
    "pip install lxml\n",
    "```"
   ]
  },
  {
   "cell_type": "code",
   "execution_count": null,
   "metadata": {},
   "outputs": [],
   "source": [
    "# exporti\n",
    "import bs4\n",
    "from ipymock.nlp import annotate\n",
    "from IPython.display import display, HTML"
   ]
  },
  {
   "cell_type": "code",
   "execution_count": null,
   "metadata": {},
   "outputs": [],
   "source": [
    "# export\n",
    "def annotate_html(content, interactive = False):\n",
    "    # Parse the HTML content with BeautifulSoup\n",
    "    soup = bs4.BeautifulSoup(content, 'lxml-xml')\n",
    "\n",
    "    # Iterate through the div elements and process only the leaf nodes\n",
    "    for div in soup.find_all('div'):  # Find all 'div' elements in the soup\n",
    "        # Check if the div is a leaf node (contains only text)\n",
    "        if div.find_all(True):  # Has child tags, so it's a leaf node\n",
    "            continue\n",
    "        try:\n",
    "            answser = ''\n",
    "            line = ''\n",
    "            for word in annotate(div.get_text()):\n",
    "                answser += word\n",
    "                if word == '\\n':\n",
    "                    if interactive:\n",
    "                        display(HTML(line))\n",
    "                    line = ''\n",
    "                else:\n",
    "                    line += word\n",
    "            # Replace the content of the div with parsed HTML\n",
    "            new_content = bs4.BeautifulSoup(answser, 'html.parser')\n",
    "            div.clear()  # Clear the original content\n",
    "            div.append(new_content)  # Append the new parsed content\n",
    "        except Exception as e:\n",
    "            print(f'Error processing content: {e}')\n",
    "            continue\n",
    "\n",
    "    return str(soup)  # Convert the soup back to string"
   ]
  }
 ],
 "metadata": {
  "kernelspec": {
   "display_name": "Python 3 (ipykernel)",
   "language": "python",
   "name": "python3"
  }
 },
 "nbformat": 4,
 "nbformat_minor": 4
}
