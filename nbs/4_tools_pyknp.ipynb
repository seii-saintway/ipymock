{
 "cells": [
  {
   "cell_type": "code",
   "execution_count": null,
   "metadata": {},
   "outputs": [],
   "source": [
    "# default_exp nlp"
   ]
  },
  {
   "cell_type": "markdown",
   "metadata": {},
   "source": [
    "# Annotating Kanji with Hiragana\n",
    "\n",
    "> Using [Morphological Analyzer JUMAN++ and Syntactic Analyzer KNP](https://github.com/ku-nlp/pyknp)"
   ]
  },
  {
   "cell_type": "markdown",
   "metadata": {},
   "source": [
    "Install [JUMAN++](https://github.com/ku-nlp/jumanpp)\n",
    "\n",
    "```bash\n",
    "pip install pyknp\n",
    "```"
   ]
  },
  {
   "cell_type": "code",
   "execution_count": null,
   "metadata": {},
   "outputs": [],
   "source": [
    "# exporti\n",
    "from pyknp import Juman"
   ]
  },
  {
   "cell_type": "code",
   "execution_count": null,
   "metadata": {},
   "outputs": [],
   "source": [
    "# export\n",
    "def is_halfwidth(text):\n",
    "    \"\"\"\n",
    "    Determine whether the text consists entirely of halfwidth characters.\n",
    "    :param text: Input text string\n",
    "    :return: True if all characters are halfwidth, otherwise False\n",
    "    \"\"\"\n",
    "    return all('\\u0020' <= char <= '\\u007E' or '\\uFF61' <= char <= '\\uFF9F' for char in text)\n",
    "\n",
    "def halfwidth_to_fullwidth(text):\n",
    "    result = ''\n",
    "    for char in text:\n",
    "        code = ord(char)\n",
    "        if code == ord(' '):\n",
    "            result += '　'\n",
    "        elif ord('!') <= code <= ord('~'):\n",
    "            # Convert ASCII characters in the range 0x0021 to 0x007E\n",
    "            result += chr(code + 0xFEE0)\n",
    "        else:\n",
    "            result += char\n",
    "    return result\n",
    "\n",
    "def annotate(text):\n",
    "    juman = Juman()\n",
    "    for line in text.split('\\n'):\n",
    "        if line == '':\n",
    "            yield '\\n'\n",
    "            continue\n",
    "        mrphs = juman.analysis(line).mrph_list()\n",
    "        for mrph in mrphs:\n",
    "            if mrph.midasi == '\\\\␣':\n",
    "                yield ' '\n",
    "                continue\n",
    "            if is_halfwidth(mrph.midasi):\n",
    "                yield mrph.midasi\n",
    "                continue\n",
    "            if mrph.midasi == mrph.yomi:\n",
    "                yield mrph.midasi\n",
    "                continue\n",
    "            yield f'<ruby>{mrph.midasi}<rt>{mrph.yomi}</rt></ruby>'\n",
    "        yield '\\n'"
   ]
  }
 ],
 "metadata": {
  "kernelspec": {
   "display_name": "Python 3 (ipykernel)",
   "language": "python",
   "name": "python3"
  }
 },
 "nbformat": 4,
 "nbformat_minor": 4
}
