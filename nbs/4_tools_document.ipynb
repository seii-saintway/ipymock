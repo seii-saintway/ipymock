{
 "cells": [
  {
   "cell_type": "code",
   "execution_count": null,
   "id": "fafb8150-3726-4ef6-8156-c7b802d20e1e",
   "metadata": {},
   "outputs": [],
   "source": [
    "# default_exp reader"
   ]
  },
  {
   "cell_type": "markdown",
   "id": "ae1e245b-37f3-4c25-b122-de3b1253272b",
   "metadata": {},
   "source": [
    "# Document Readers\n",
    "\n",
    "> Some Document Readers for AGI"
   ]
  }
 ],
 "metadata": {
  "kernelspec": {
   "display_name": "Python 3 (ipykernel)",
   "language": "python",
   "name": "python3"
  }
 },
 "nbformat": 4,
 "nbformat_minor": 5
}
