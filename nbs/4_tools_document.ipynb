{
 "cells": [
  {
   "cell_type": "code",
   "execution_count": null,
   "id": "fafb8150-3726-4ef6-8156-c7b802d20e1e",
   "metadata": {},
   "outputs": [],
   "source": [
    "# default_exp reader"
   ]
  },
  {
   "cell_type": "markdown",
   "id": "ae1e245b-37f3-4c25-b122-de3b1253272b",
   "metadata": {},
   "source": [
    "# Document Readers\n",
    "\n",
    "> Some Document Readers for AGI"
   ]
  }
 ],
 "metadata": {
  "kernelspec": {
   "display_name": "Python 3 (ipykernel)",
   "language": "python",
   "name": "python3"
  },
  "language_info": {
   "codemirror_mode": {
    "name": "ipython",
    "version": 3
   },
   "file_extension": ".py",
   "mimetype": "text/x-python",
   "name": "python",
   "nbconvert_exporter": "python",
   "pygments_lexer": "ipython3",
   "version": "3.10.9"
  }
 },
 "nbformat": 4,
 "nbformat_minor": 5
}
