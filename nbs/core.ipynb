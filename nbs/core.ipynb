{
 "cells": [
  {
   "cell_type": "code",
   "execution_count": null,
   "metadata": {},
   "outputs": [],
   "source": [
    "# default_exp __init__"
   ]
  },
  {
   "cell_type": "markdown",
   "metadata": {},
   "source": [
    "# iPytest\n",
    "\n",
    "> The do function can be used to pytest testcases."
   ]
  },
  {
   "cell_type": "code",
   "execution_count": null,
   "metadata": {},
   "outputs": [],
   "source": [
    "# export\n",
    "import py\n",
    "import sys\n",
    "import traceback\n",
    "\n",
    "import _pytest.config\n",
    "import _pytest.tmpdir\n",
    "import _pytest.main\n",
    "import _pytest.runner\n",
    "import _pytest.fixtures\n",
    "import _pytest.python"
   ]
  },
  {
   "cell_type": "code",
   "execution_count": null,
   "metadata": {},
   "outputs": [],
   "source": [
    "# export\n",
    "def get_test_funcs(**test_entries):\n",
    "    cfg = _pytest.config.get_config()\n",
    "    cfg.parse(args=[])\n",
    "\n",
    "    _pytest.tmpdir.pytest_configure(config=cfg)\n",
    "\n",
    "    ss = _pytest.main.Session.from_config(cfg)\n",
    "    ss._setupstate = _pytest.runner.SetupState()\n",
    "    ss._fixturemanager = _pytest.fixtures.FixtureManager(ss)\n",
    "\n",
    "    m = _pytest.python.Module.from_parent(parent=ss, fspath=py.path.local())\n",
    "\n",
    "    class Object(object):\n",
    "        def __init__(self, **entries):\n",
    "            self.__dict__.update(entries)\n",
    "    m.obj = Object(**test_entries)\n",
    "\n",
    "    test_funcs = [m]\n",
    "    i = 0\n",
    "    while i < len(test_funcs):\n",
    "        if hasattr(test_funcs[i], 'collect'):\n",
    "            test_funcs += test_funcs.pop(i).collect()\n",
    "        else:\n",
    "            i += 1\n",
    "    return dict(enumerate(test_funcs))"
   ]
  },
  {
   "cell_type": "code",
   "execution_count": null,
   "metadata": {},
   "outputs": [],
   "source": [
    "# export\n",
    "def print_result(idx, test_func, method_type):\n",
    "    try:\n",
    "        getattr(test_func, method_type, lambda: None)()\n",
    "        print(f'=> no.{idx}  {test_func.nodeid}  {method_type}  passed\\n')\n",
    "    except Exception:\n",
    "        print(f'=> no.{idx}  {test_func.nodeid}  {method_type}  failed\\n')\n",
    "        print(traceback.format_exc())"
   ]
  },
  {
   "cell_type": "code",
   "execution_count": null,
   "metadata": {},
   "outputs": [],
   "source": [
    "# export\n",
    "def do(**test_entries):\n",
    "    c = get_test_funcs(**test_entries)\n",
    "\n",
    "    for i in c:\n",
    "        print('')\n",
    "        print_result(i, c[i], 'setup')\n",
    "        print_result(i, c[i], 'runtest')"
   ]
  }
 ],
 "metadata": {
  "kernelspec": {
   "display_name": "python3",
   "language": "python",
   "name": "python3"
  }
 },
 "nbformat": 4,
 "nbformat_minor": 4
}
