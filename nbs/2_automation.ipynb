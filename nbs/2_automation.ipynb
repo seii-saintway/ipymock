{
 "cells": [
  {
   "cell_type": "code",
   "execution_count": null,
   "metadata": {},
   "outputs": [],
   "source": [
    "# default_exp automation"
   ]
  },
  {
   "cell_type": "markdown",
   "metadata": {},
   "source": [
    "# Browser Automation\n",
    "\n",
    "> Using Selenium for Browser Automation"
   ]
  },
  {
   "cell_type": "markdown",
   "metadata": {},
   "source": [
    "```bash\n",
    "pip install undetected_chromedriver webdriver_manager\n",
    "```"
   ]
  },
  {
   "cell_type": "code",
   "execution_count": null,
   "metadata": {},
   "outputs": [],
   "source": [
    "# exporti\n",
    "import os, typing\n",
    "from selenium.webdriver.remote.webdriver import WebDriver"
   ]
  },
  {
   "cell_type": "code",
   "execution_count": null,
   "metadata": {},
   "outputs": [],
   "source": [
    "# exporti\n",
    "import undetected_chromedriver\n",
    "from webdriver_manager.chrome import ChromeDriverManager"
   ]
  },
  {
   "cell_type": "code",
   "execution_count": null,
   "metadata": {},
   "outputs": [],
   "source": [
    "# export\n",
    "driver: typing.Optional[WebDriver] = None\n",
    "device_pixel_ratio = 1"
   ]
  },
  {
   "cell_type": "code",
   "execution_count": null,
   "metadata": {},
   "outputs": [],
   "source": [
    "# export\n",
    "def init(*arguments, driver_version: typing.Optional[str] = None, browser_executable_path: typing.Optional[str] = None):\n",
    "    chrome_options = undetected_chromedriver.ChromeOptions()\n",
    "    for argument in arguments:\n",
    "        if isinstance(argument, str):\n",
    "            chrome_options.add_argument(argument)\n",
    "    global driver\n",
    "    driver = undetected_chromedriver.Chrome(\n",
    "        options = chrome_options,\n",
    "        driver_executable_path = os.path.join(\n",
    "            os.path.dirname(ChromeDriverManager(driver_version = driver_version).install()), 'chromedriver.exe' if os.name == 'nt' else 'chromedriver'\n",
    "        ),\n",
    "        browser_executable_path = browser_executable_path\n",
    "    )\n",
    "    global device_pixel_ratio\n",
    "    device_pixel_ratio = driver.execute_script('return window.devicePixelRatio;')"
   ]
  },
  {
   "cell_type": "code",
   "execution_count": null,
   "metadata": {},
   "outputs": [],
   "source": [
    "# export\n",
    "def quit():\n",
    "    global driver\n",
    "    global device_pixel_ratio\n",
    "    driver.quit()\n",
    "    driver = None\n",
    "    device_pixel_ratio = 1"
   ]
  },
  {
   "cell_type": "code",
   "execution_count": null,
   "metadata": {},
   "outputs": [],
   "source": [
    "# from selenium import webdriver\n",
    "# from selenium.webdriver.chrome.service import Service\n",
    "# from webdriver_manager.chrome import ChromeDriverManager\n",
    "\n",
    "# def init(*arguments):\n",
    "#     chrome_options = webdriver.ChromeOptions()\n",
    "#     for argument in arguments:\n",
    "#         if isinstance(argument, str):\n",
    "#             chrome_options.add_argument(argument)\n",
    "#     global driver\n",
    "#     driver = webdriver.Chrome(\n",
    "#         options = chrome_options,\n",
    "#         service = Service(ChromeDriverManager().install())\n",
    "#     )\n",
    "#     global device_pixel_ratio\n",
    "#     device_pixel_ratio = driver.execute_script('return window.devicePixelRatio;')"
   ]
  },
  {
   "cell_type": "code",
   "execution_count": null,
   "metadata": {},
   "outputs": [],
   "source": [
    "# notest\n",
    "init('--user-data-dir=C:\\\\Users\\\\seii-saintway\\\\Downloads\\\\chrome-profile')"
   ]
  },
  {
   "cell_type": "markdown",
   "metadata": {},
   "source": [
    "---\n",
    "Logging"
   ]
  },
  {
   "cell_type": "code",
   "execution_count": null,
   "metadata": {},
   "outputs": [],
   "source": [
    "# exporti\n",
    "import logging\n",
    "\n",
    "logger = logging.getLogger(__name__)\n",
    "logger.setLevel(logging.DEBUG)\n",
    "\n",
    "handler = logging.StreamHandler()\n",
    "handler.setFormatter(logging.Formatter(\n",
    "    fmt = '[%(asctime)s][%(levelname)s]<%(name)s> %(message)s',\n",
    "    datefmt = '%H:%M:%S'\n",
    "))\n",
    "logger.addHandler(handler)"
   ]
  },
  {
   "cell_type": "markdown",
   "metadata": {},
   "source": [
    "---\n",
    "Using Text-based Search for Browser Automation"
   ]
  },
  {
   "cell_type": "code",
   "execution_count": null,
   "metadata": {},
   "outputs": [],
   "source": [
    "# exporti\n",
    "from selenium.common.exceptions import WebDriverException"
   ]
  },
  {
   "cell_type": "code",
   "execution_count": null,
   "metadata": {},
   "outputs": [],
   "source": [
    "# export\n",
    "def ok():\n",
    "    if driver is None:\n",
    "        return False\n",
    "    try:\n",
    "        if driver.window_handles == []:\n",
    "            return False\n",
    "    except WebDriverException:\n",
    "        return False\n",
    "    return True"
   ]
  },
  {
   "cell_type": "code",
   "execution_count": null,
   "metadata": {},
   "outputs": [],
   "source": [
    "# export\n",
    "def last():\n",
    "    if not ok():\n",
    "        return\n",
    "    driver.switch_to.window(driver.window_handles[-1])"
   ]
  },
  {
   "cell_type": "code",
   "execution_count": null,
   "metadata": {},
   "outputs": [],
   "source": [
    "# export\n",
    "def new(url):\n",
    "    last()\n",
    "    if not ok():\n",
    "        init()\n",
    "    if 'data:,' not in driver.current_url and 'chrome://new-tab-page/' not in driver.current_url:\n",
    "        driver.switch_to.new_window('tab')\n",
    "    driver.get(url)"
   ]
  },
  {
   "cell_type": "code",
   "execution_count": null,
   "metadata": {},
   "outputs": [],
   "source": [
    "# export\n",
    "def close():\n",
    "    global driver\n",
    "    global device_pixel_ratio\n",
    "    driver.close()\n",
    "    if not ok():\n",
    "        driver = None\n",
    "        device_pixel_ratio = 1"
   ]
  },
  {
   "cell_type": "code",
   "execution_count": null,
   "metadata": {},
   "outputs": [],
   "source": [
    "# exporti\n",
    "from selenium.webdriver.common.by import By"
   ]
  },
  {
   "cell_type": "code",
   "execution_count": null,
   "metadata": {},
   "outputs": [],
   "source": [
    "# exporti\n",
    "from selenium.webdriver.support.ui import WebDriverWait\n",
    "from selenium.webdriver.support import expected_conditions"
   ]
  },
  {
   "cell_type": "code",
   "execution_count": null,
   "metadata": {},
   "outputs": [],
   "source": [
    "# export\n",
    "def find_elements(prompt, exactly = True):\n",
    "    return [elem for elem in WebDriverWait(driver, 10).until(\n",
    "        expected_conditions.presence_of_all_elements_located((By.XPATH, f'//*[not(contains(text(), \"\\n\")) and contains(., \"{prompt}\")]'))\n",
    "    ) if elem.is_displayed() and (elem.text == prompt or not exactly)]"
   ]
  },
  {
   "cell_type": "code",
   "execution_count": null,
   "metadata": {},
   "outputs": [],
   "source": [
    "# exporti\n",
    "from selenium.common.exceptions import NoSuchElementException"
   ]
  },
  {
   "cell_type": "code",
   "execution_count": null,
   "metadata": {},
   "outputs": [],
   "source": [
    "# export\n",
    "def find_elements(prompt, exactly = True):\n",
    "    for scope in range(1, 5):\n",
    "        elements = driver.find_elements(By.XPATH, f'//*[.{\"/*\" * (scope - 1)} and not(.{\"/*\" * scope}) and contains(., \"{prompt}\")]')\n",
    "        elements = [elem for elem in elements if elem.is_displayed() and (elem.text == prompt or not exactly)]\n",
    "        logger.info(f'Search for text \"{prompt}\" in scope {scope}: found {len(elements)} element(s)')\n",
    "        if elements:\n",
    "            return elements\n",
    "        if exactly:\n",
    "            elements = driver.find_elements(By.XPATH, f'//*[.{\"/*\" * (scope - 1)} and not(.{\"/*\" * scope}) and @*[.=\"{prompt}\"]]')\n",
    "        else:\n",
    "            elements = driver.find_elements(By.XPATH, f'//*[.{\"/*\" * (scope - 1)} and not(.{\"/*\" * scope}) and @*[contains(., \"{prompt}\")]]')\n",
    "        elements = [elem for elem in elements if elem.is_displayed()]\n",
    "        logger.info(f'Search for attr \"{prompt}\" in scope {scope}: found {len(elements)} element(s)')\n",
    "        if elements:\n",
    "            return elements\n",
    "    raise NoSuchElementException"
   ]
  },
  {
   "cell_type": "code",
   "execution_count": null,
   "metadata": {},
   "outputs": [],
   "source": [
    "# export\n",
    "def find_element(prompt, closest_prompt = None):\n",
    "    if closest_prompt is None:\n",
    "        return find_elements(prompt)[-1]\n",
    "    if isinstance(closest_prompt, str):\n",
    "        closest_prompt = find_elements(closest_prompt, False)[-1]\n",
    "    closest_location = closest_prompt.location\n",
    "    return min(\n",
    "        find_elements(prompt),\n",
    "        key = lambda elem: (elem.location['x'] - closest_location['x']) ** 2 + (elem.location['y'] - closest_location['y']) ** 2\n",
    "    )"
   ]
  },
  {
   "cell_type": "code",
   "execution_count": null,
   "metadata": {},
   "outputs": [],
   "source": [
    "# exporti\n",
    "from selenium.webdriver.common.action_chains import ActionChains"
   ]
  },
  {
   "cell_type": "code",
   "execution_count": null,
   "metadata": {},
   "outputs": [],
   "source": [
    "# export\n",
    "def click(prompt = None, closest_prompt = None, xoffset: int = 0, yoffset: int = 0):\n",
    "    if prompt is None:\n",
    "        return move_and_click(xoffset, yoffset, True)\n",
    "    if isinstance(prompt, str):\n",
    "        prompt = find_element(prompt, closest_prompt)\n",
    "    ActionChains(driver).move_to_element_with_offset(prompt, xoffset, yoffset).click().perform()\n",
    "    return prompt"
   ]
  },
  {
   "cell_type": "code",
   "execution_count": null,
   "metadata": {},
   "outputs": [],
   "source": [
    "# export\n",
    "def input(text, prompt = None, closest_prompt = None, xoffset: int = 0, yoffset: int = 0):\n",
    "    prompt = click(prompt, closest_prompt, xoffset, yoffset)\n",
    "    ActionChains(driver).send_keys(text).perform()\n",
    "    return prompt"
   ]
  },
  {
   "cell_type": "markdown",
   "metadata": {},
   "source": [
    "---\n",
    "Using Selenium for Static Inspection of Page Appearance"
   ]
  },
  {
   "cell_type": "code",
   "execution_count": null,
   "metadata": {},
   "outputs": [],
   "source": [
    "# exporti\n",
    "import hashlib, time\n",
    "from selenium.common.exceptions import StaleElementReferenceException"
   ]
  },
  {
   "cell_type": "code",
   "execution_count": null,
   "metadata": {},
   "outputs": [],
   "source": [
    "# export\n",
    "def get_html_hash(xpath = '//body'):\n",
    "    \"\"\"Get the hash of the element's outerHTML.\"\"\"\n",
    "    # driver is the Selenium WebDriver global instance.\n",
    "    elements = driver.find_elements(By.XPATH, xpath)\n",
    "    try:\n",
    "        html = elements[-1].get_attribute('outerHTML') if elements else ''\n",
    "    except StaleElementReferenceException:\n",
    "        html = ''\n",
    "    return hashlib.md5(html.encode('utf-8')).hexdigest(), time.time()"
   ]
  },
  {
   "cell_type": "code",
   "execution_count": null,
   "metadata": {},
   "outputs": [],
   "source": [
    "# export\n",
    "def wait(timeout=float('inf'), stability_duration=1.0, check_interval=0.5, xpath='//body'):\n",
    "    \"\"\"\n",
    "    Wait until the HTML of the specified element does not change.\n",
    "\n",
    "    Args:\n",
    "        timeout: Maximum wait time for stabilization (seconds).\n",
    "        stability_duration: Duration for stabilization (seconds).\n",
    "        check_interval: Interval to check for changes (seconds).\n",
    "        xpath: XPATH of the element to monitor for HTML changes.\n",
    "    \"\"\"\n",
    "    # Get the initial hash value\n",
    "    previous_hash, previous_time = get_html_hash(xpath)\n",
    "\n",
    "    # Wait until the HTML does not change\n",
    "    start_time = time.time()\n",
    "    while True:\n",
    "        time.sleep(check_interval)\n",
    "\n",
    "        # Get the current hash value\n",
    "        current_hash, current_time = get_html_hash(xpath)\n",
    "\n",
    "        # Check if the hash value has stabilized\n",
    "        if current_hash == previous_hash:\n",
    "            if current_time - previous_time >= stability_duration:\n",
    "                logger.info('HTML content has stabilized.')\n",
    "                break\n",
    "        else:\n",
    "            # Update hash and time if the content changes\n",
    "            previous_hash, previous_time = current_hash, current_time\n",
    "\n",
    "        # Check for timeout\n",
    "        if current_time - start_time >= timeout:\n",
    "            logger.info('Wait for HTML stabilization timed out.')\n",
    "            break"
   ]
  },
  {
   "cell_type": "code",
   "execution_count": null,
   "metadata": {},
   "outputs": [],
   "source": [
    "# export\n",
    "def screen_hash():\n",
    "    \"\"\"Calculate the hash value of the screenshot.\"\"\"\n",
    "    return hashlib.md5(driver.get_screenshot_as_base64().encode('utf-8')).hexdigest(), time.time()"
   ]
  },
  {
   "cell_type": "code",
   "execution_count": null,
   "metadata": {},
   "outputs": [],
   "source": [
    "# exporti\n",
    "from sys import float_info"
   ]
  },
  {
   "cell_type": "code",
   "execution_count": null,
   "metadata": {},
   "outputs": [],
   "source": [
    "# export\n",
    "def watch(timeout = float_info.max, stability_duration = 1.0, check_interval = 0.5):\n",
    "    \"\"\"\n",
    "    Wait until the screenshot does not change.\n",
    "\n",
    "    Args:\n",
    "        timeout: how long to wait for stabilization (seconds)\n",
    "        stability_duration: duration for stabilization (seconds)\n",
    "        check_interval: check interval (seconds)\n",
    "    \"\"\"\n",
    "    # Get the initial hash value\n",
    "    previous_hash, previous_time = screen_hash()\n",
    "\n",
    "    # Wait until the image does not change\n",
    "    start_time = previous_time\n",
    "    while True:\n",
    "        time.sleep(check_interval)\n",
    "\n",
    "        # Take another screenshot and calculate the new hash value\n",
    "        current_hash, current_time = screen_hash()\n",
    "\n",
    "        # Check if the hash value has changed\n",
    "        if current_hash == previous_hash:\n",
    "            if current_time - previous_time >= stability_duration:\n",
    "                logger.info('Screenshot has stabilized.')\n",
    "                break\n",
    "        else:\n",
    "            if current_time - start_time >= timeout:\n",
    "                logger.warning('Wait for screenshot stabilization timeout.')\n",
    "                break\n",
    "            previous_hash, previous_time = current_hash, current_time"
   ]
  },
  {
   "cell_type": "markdown",
   "metadata": {},
   "source": [
    "---\n",
    "Using Airtest for Browser Automation"
   ]
  },
  {
   "cell_type": "markdown",
   "metadata": {},
   "source": [
    "```bash\n",
    "pip install airtest\n",
    "```"
   ]
  },
  {
   "cell_type": "code",
   "execution_count": null,
   "metadata": {},
   "outputs": [],
   "source": [
    "# export\n",
    "def try_log_screen(xpath = None):\n",
    "    screenshot_path = 'screen.png'\n",
    "    if isinstance(xpath, str):\n",
    "        driver.find_element(By.XPATH, xpath).screenshot(screenshot_path)\n",
    "        return\n",
    "    driver.save_screenshot(screenshot_path)"
   ]
  },
  {
   "cell_type": "code",
   "execution_count": null,
   "metadata": {},
   "outputs": [],
   "source": [
    "# exporti\n",
    "from selenium.webdriver.common.by import By\n",
    "from selenium.webdriver.common.action_chains import ActionChains\n",
    "\n",
    "import os, time\n",
    "from airtest.aircv import get_resolution, imread\n",
    "from airtest.core.api import Template\n",
    "from airtest.core.error import TargetNotFoundError"
   ]
  },
  {
   "cell_type": "code",
   "execution_count": null,
   "metadata": {},
   "outputs": [],
   "source": [
    "# export\n",
    "def find_position(image, timeout=1.0, threshold=0.9, interval=0.5, intervalfunc=None):\n",
    "    \"\"\"\n",
    "    Search for image template in the screen until timeout\n",
    "\n",
    "    Args:\n",
    "        image: image file path to be found in screenshot\n",
    "        timeout: time interval how long to look for the image template\n",
    "        threshold: default is None\n",
    "        interval: sleep interval before next attempt to find the image template\n",
    "        intervalfunc: function that is executed after unsuccessful attempt to find the image template\n",
    "\n",
    "    Raises:\n",
    "        TargetNotFoundError: when image template is not found in screenshot\n",
    "\n",
    "    Returns:\n",
    "        TargetNotFoundError if image template not found, otherwise returns the position where the image template has\n",
    "        been found in screenshot\n",
    "    \"\"\"\n",
    "    logger.info(f'Try to find {image}')\n",
    "    query = Template(image, rgb = True)\n",
    "    start_time = time.time()\n",
    "    while True:\n",
    "        LOG_DIR = '.'\n",
    "        file_path = os.path.join(LOG_DIR, 'screen.png')\n",
    "        driver.save_screenshot(file_path)\n",
    "        screen = imread(file_path)\n",
    "        query.resolution = get_resolution(screen)\n",
    "        # query.resolution = (1920, 1080)\n",
    "        if screen is None:\n",
    "            logger.warning('Screen is None: may be locked')\n",
    "        else:\n",
    "            if threshold:\n",
    "                query.threshold = threshold\n",
    "            match_pos = query.match_in(screen)\n",
    "            if match_pos:\n",
    "                # logger.info(f'match_pos == {match_pos}')\n",
    "                # try_log_screen(screen)\n",
    "                return match_pos[0] / device_pixel_ratio, match_pos[1] / device_pixel_ratio\n",
    "\n",
    "        if intervalfunc is not None:\n",
    "            intervalfunc()\n",
    "\n",
    "        # Raise an exception if timeout occurs, otherwise proceed to the next loop.\n",
    "        if (time.time() - start_time) > timeout:\n",
    "            # try_log_screen(screen)\n",
    "            raise TargetNotFoundError(f'Picture {query} not found in screen')\n",
    "        else:\n",
    "            # ActionChains(driver).move_by_offset(0, 0).perform()\n",
    "            time.sleep(interval)\n",
    "\n",
    "def inject():\n",
    "    # Inject JavaScript code to get the mouse coordinates.\n",
    "    driver.execute_script(\"\"\"\n",
    "var mouseMarkRD = document.createElement('div');\n",
    "mouseMarkRD.id = 'mouse_mark_rd';\n",
    "mouseMarkRD.style.position = 'absolute';\n",
    "mouseMarkRD.style.width = '8px';\n",
    "mouseMarkRD.style.height = '8px';\n",
    "mouseMarkRD.style.backgroundColor = 'red';\n",
    "mouseMarkRD.style.zIndex = '9999';\n",
    "document.body.appendChild(mouseMarkRD);\n",
    "\n",
    "var mouseMarkLU = document.createElement('div');\n",
    "mouseMarkLU.id = 'mouse_mark_lu';\n",
    "mouseMarkLU.style.position = 'absolute';\n",
    "mouseMarkLU.style.width = '8px';\n",
    "mouseMarkLU.style.height = '8px';\n",
    "mouseMarkLU.style.backgroundColor = 'red';\n",
    "mouseMarkLU.style.zIndex = '9999';\n",
    "document.body.appendChild(mouseMarkLU);\n",
    "\n",
    "var mouseMarkRU = document.createElement('div');\n",
    "mouseMarkRU.id = 'mouse_mark_ru';\n",
    "mouseMarkRU.style.position = 'absolute';\n",
    "mouseMarkRU.style.width = '8px';\n",
    "mouseMarkRU.style.height = '8px';\n",
    "mouseMarkRU.style.backgroundColor = 'red';\n",
    "mouseMarkRU.style.zIndex = '9999';\n",
    "document.body.appendChild(mouseMarkRU);\n",
    "\n",
    "var mouseMarkLD = document.createElement('div');\n",
    "mouseMarkLD.id = 'mouse_mark_ld';\n",
    "mouseMarkLD.style.position = 'absolute';\n",
    "mouseMarkLD.style.width = '8px';\n",
    "mouseMarkLD.style.height = '8px';\n",
    "mouseMarkLD.style.backgroundColor = 'red';\n",
    "mouseMarkLD.style.zIndex = '9999';\n",
    "document.body.appendChild(mouseMarkLD);\n",
    "\n",
    "document.addEventListener('mousemove', function(e) {\n",
    "    mouseMarkRD.style.left = e.pageX + 2 + 'px';\n",
    "    mouseMarkRD.style.top = e.pageY + 2 + 'px';\n",
    "\n",
    "    mouseMarkLU.style.left = e.pageX - 10 + 'px';\n",
    "    mouseMarkLU.style.top = e.pageY - 10 + 'px';\n",
    "\n",
    "    mouseMarkRU.style.left = e.pageX + 2 + 'px';\n",
    "    mouseMarkRU.style.top = e.pageY - 10 + 'px';\n",
    "\n",
    "    mouseMarkLD.style.left = e.pageX - 10 + 'px';\n",
    "    mouseMarkLD.style.top = e.pageY + 2 + 'px';\n",
    "\n",
    "    window.mouseX = e.clientX;\n",
    "    window.mouseY = e.clientY;\n",
    "});\n",
    "\"\"\")\n",
    "\n",
    "def get_mouse_position():\n",
    "    return driver.execute_script('return window.mouseX'), driver.execute_script('return window.mouseY')\n",
    "\n",
    "def move_to_center():\n",
    "    body = driver.find_element(By.TAG_NAME, 'body')\n",
    "    ActionChains(driver).move_to_element(body).perform()\n",
    "    return body.rect['x'] + body.rect['width'] >> 1, body.rect['y'] + body.rect['height'] >> 1\n",
    "\n",
    "def move_and_click(x, y, offset = True):\n",
    "    if offset:\n",
    "        xoffset, yoffset = x, y\n",
    "    else:\n",
    "        # Retrieve the mouse coordinates.\n",
    "        center_x, center_y = move_to_center()\n",
    "        logger.debug(f'Get center position: {center_x}, {center_y}')\n",
    "        xoffset, yoffset = x - center_x, y - center_y\n",
    "    # Move to the specified coordinates and click.\n",
    "    ActionChains(driver).move_by_offset(xoffset, yoffset).click().perform()\n",
    "    return xoffset, yoffset\n",
    "\n",
    "def exists(image):\n",
    "    try:\n",
    "        find_position(image)\n",
    "        return True\n",
    "    except:\n",
    "        return False\n",
    "\n",
    "def touch(image, text = None):\n",
    "    try:\n",
    "        x, y = find_position(image)\n",
    "        move_and_click(x, y, False)\n",
    "        if isinstance(text, str):\n",
    "            fill(text)\n",
    "    except:\n",
    "        pass\n",
    "\n",
    "def fill(text):\n",
    "    ActionChains(driver).send_keys(text).perform()"
   ]
  },
  {
   "cell_type": "markdown",
   "metadata": {},
   "source": [
    "---\n",
    "Using Selenium for Printing to PNG and PDF"
   ]
  },
  {
   "cell_type": "markdown",
   "metadata": {},
   "source": [
    "```bash\n",
    "pip install markdown\n",
    "```"
   ]
  },
  {
   "cell_type": "code",
   "execution_count": null,
   "metadata": {},
   "outputs": [],
   "source": [
    "# exporti\n",
    "import markdown\n",
    "import os, re"
   ]
  },
  {
   "cell_type": "code",
   "execution_count": null,
   "metadata": {},
   "outputs": [],
   "source": [
    "# export\n",
    "def convert_md_with_ruby_to_html(md_file_path):\n",
    "    ''' Convert Markdown file containing <ruby> tags into HTML file '''\n",
    "    # Get the filename without extension\n",
    "    base_name = os.path.splitext(md_file_path)[0]\n",
    "    html_file_path = f'{base_name}.html'\n",
    "\n",
    "    # Read the Markdown file and convert it to HTML\n",
    "    with open(md_file_path, 'r', encoding='utf-8') as md_file:\n",
    "        md_content = md_file.read()\n",
    "\n",
    "    # Create an HTML document while preserving the <ruby> tags\n",
    "    html_document = convert_md_content_to_html(md_content)\n",
    "    save_file(html_file_path, html_document)\n",
    "    return html_file_path, html_document\n",
    "\n",
    "def convert_md_content_to_html(md_content):\n",
    "    ''' Convert Markdown content containing <ruby> tags into HTML content '''\n",
    "    html_content = markdown.markdown(md_content)\n",
    "\n",
    "    # Replace the newline characters within <p> tags with <br />\n",
    "    html_content = re.sub(r'<p>(.*?)</p>', lambda m: '<p>' + m.group(1).replace('\\n', '<br />') + '</p>', html_content, flags=re.DOTALL)\n",
    "\n",
    "    return f\"\"\"\n",
    "<html>\n",
    "    <head>\n",
    "        <meta charset=\"utf-8\">\n",
    "        <style>\n",
    "            ruby rt {{\n",
    "                font-size: 0.6em; /* 调整注音字体大小 */\n",
    "            }}\n",
    "        </style>\n",
    "    </head>\n",
    "    <body>\n",
    "{html_content}\n",
    "    </body>\n",
    "</html>\n",
    "\"\"\"\n",
    "\n",
    "def save_file(file_path, content):\n",
    "    ''' Write the content to a file '''\n",
    "    with open(file_path, 'w', encoding='utf-8') as file:\n",
    "        file.write(content)"
   ]
  },
  {
   "cell_type": "code",
   "execution_count": null,
   "metadata": {},
   "outputs": [],
   "source": [
    "# export\n",
    "def convert_html_with_ruby_to_png(html_file_path):\n",
    "    ''' Use Selenium to print the HTML file as PNG '''\n",
    "    # Get the filename without extension\n",
    "    base_name = os.path.splitext(html_file_path)[0]\n",
    "    png_file_path = f'{base_name}.png'\n",
    "\n",
    "    # Set up ChromeDriver\n",
    "    global driver\n",
    "    if driver is None:\n",
    "        init('--headless', '--disable-gpu')\n",
    "\n",
    "    # Open the local HTML file\n",
    "    new('file://' + os.path.abspath(html_file_path))\n",
    "    # Wait for the page to fully load\n",
    "    wait(1.0)\n",
    "\n",
    "    # Get the current window size\n",
    "    current_window_size = driver.get_window_size()\n",
    "    # Set the window size to the resolution of iPhone 16 Pro Max\n",
    "    # driver.set_window_size(642, 1389)\n",
    "    driver.set_window_size(642/3*2, 1389/3*2)\n",
    "    # Capture the page and save as PNG\n",
    "    driver.save_screenshot(png_file_path)\n",
    "    # Reset the window size\n",
    "    driver.set_window_size(current_window_size['width'], current_window_size['height'])\n",
    "    # Wait for the page to fully load\n",
    "    wait(1.0)\n",
    "\n",
    "    close()\n",
    "    return png_file_path\n",
    "\n",
    "def convert_md_with_ruby_to_png(md_file_path):\n",
    "    ''' Convert the Markdown file containing <ruby> tags into PNG '''\n",
    "    html_file_path, _ = convert_md_with_ruby_to_html(md_file_path)\n",
    "    return convert_html_with_ruby_to_png(html_file_path)"
   ]
  },
  {
   "cell_type": "code",
   "execution_count": null,
   "metadata": {},
   "outputs": [],
   "source": [
    "# export\n",
    "def dialog_for_printing(timeout = float('inf')):\n",
    "    ''' Dialog for printing to PDF '''\n",
    "    # Print to PDF\n",
    "    driver.set_script_timeout(60 * 60 * 24)\n",
    "    driver.execute_script('window.print();')\n",
    "    # Wait until the <body> element becomes clickable\n",
    "    WebDriverWait(driver, timeout).until(expected_conditions.element_to_be_clickable((By.TAG_NAME, 'body')))"
   ]
  },
  {
   "cell_type": "code",
   "execution_count": null,
   "metadata": {},
   "outputs": [],
   "source": [
    "# exporti\n",
    "import base64\n",
    "from selenium.webdriver.common.print_page_options import PrintOptions"
   ]
  },
  {
   "cell_type": "code",
   "execution_count": null,
   "metadata": {},
   "outputs": [],
   "source": [
    "# export\n",
    "def convert_html_with_ruby_to_pdf(html_file_path):\n",
    "    ''' Use Selenium to print the HTML file as PDF '''\n",
    "    # Get the filename without extension\n",
    "    base_name = os.path.splitext(html_file_path)[0]\n",
    "    pdf_file_path = f'{base_name}.pdf'\n",
    "\n",
    "    # Set up ChromeDriver\n",
    "    global driver\n",
    "    if driver is None:\n",
    "        init('--disable-gpu', f'--print-to-pdf=\"{os.path.abspath(pdf_file_path)}\"')\n",
    "\n",
    "    # Open the local HTML file\n",
    "    new('file://' + os.path.abspath(html_file_path))\n",
    "    # Wait for the page to fully load\n",
    "    wait(1.0)\n",
    "\n",
    "    # Write the decoded data to a PDF file\n",
    "    print_options = PrintOptions()\n",
    "    print_options.scale = 1.3\n",
    "    with open(pdf_file_path, 'wb') as pdf_file:\n",
    "        pdf_file.write(base64.b64decode(driver.print_page(print_options)))\n",
    "\n",
    "    close()\n",
    "    return pdf_file_path\n",
    "\n",
    "def convert_md_with_ruby_to_pdf(md_file_path):\n",
    "    ''' Convert the Markdown file containing <ruby> tags into PDF '''\n",
    "    html_file_path, _ = convert_md_with_ruby_to_html(md_file_path)\n",
    "    return convert_html_with_ruby_to_pdf(html_file_path)"
   ]
  },
  {
   "cell_type": "markdown",
   "metadata": {},
   "source": [
    "---"
   ]
  },
  {
   "cell_type": "code",
   "execution_count": null,
   "metadata": {},
   "outputs": [],
   "source": [
    "# notest\n",
    "init('--lang=en')"
   ]
  },
  {
   "cell_type": "code",
   "execution_count": null,
   "metadata": {},
   "outputs": [],
   "source": [
    "# notest\n",
    "convert_md_with_ruby_to_png('2024-11-21.md')"
   ]
  },
  {
   "cell_type": "code",
   "execution_count": null,
   "metadata": {},
   "outputs": [],
   "source": [
    "# notest\n",
    "convert_md_with_ruby_to_pdf('2024-11-21.md')"
   ]
  }
 ],
 "metadata": {
  "kernelspec": {
   "display_name": "Python 3 (ipykernel)",
   "language": "python",
   "name": "python3"
  }
 },
 "nbformat": 4,
 "nbformat_minor": 4
}
