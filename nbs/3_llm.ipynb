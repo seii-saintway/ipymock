{
 "cells": [
  {
   "cell_type": "code",
   "execution_count": null,
   "id": "3739f06f-f39e-42c1-97b9-23dbd4347f24",
   "metadata": {},
   "outputs": [],
   "source": [
    "# default_exp llm"
   ]
  },
  {
   "cell_type": "markdown",
   "id": "y6cdndog7pd",
   "metadata": {},
   "source": [
    "# LLM Embedding Support\n",
    "\n",
    "> It provides some mocks from LLM."
   ]
  },
  {
   "cell_type": "markdown",
   "id": "ad59fccb",
   "metadata": {},
   "source": [
    "This module provides text embedding capabilities for Large Language Models, specifically supporting Chinese text processing.\n",
    "\n",
    "## Overview\n",
    "\n",
    "The LLM module offers:\n",
    "- **Text Embeddings**: Generate text embeddings using SentenceTransformer models\n",
    "- **Chinese Language Support**: Optimized for Chinese text with GanymedeNil/text2vec-large-chinese\n",
    "- **OpenAI API Mocking**: Mock OpenAI embedding APIs for testing purposes\n",
    "- **PyTest Integration**: Fixtures for embedding-related testing\n",
    "\n",
    "## Key Features\n",
    "\n",
    "- High-quality Chinese text embeddings\n",
    "- OpenAI Embedding API compatibility\n",
    "- Vector similarity operations\n",
    "- Test fixture support for embeddings"
   ]
  },
  {
   "cell_type": "code",
   "execution_count": null,
   "id": "d9e11a1d-0987-4953-8d82-877fcf4cdff5",
   "metadata": {},
   "outputs": [],
   "source": [
    "# exporti\n",
    "from sentence_transformers import SentenceTransformer\n",
    "embeddings_model = SentenceTransformer('GanymedeNil/text2vec-large-chinese')"
   ]
  },
  {
   "cell_type": "markdown",
   "id": "ohxypsoqlz",
   "metadata": {},
   "source": [
    "## Embedding Model Setup\n",
    "\n",
    "Initialize the Chinese text embedding model for vector representations."
   ]
  },
  {
   "cell_type": "code",
   "execution_count": null,
   "id": "307245c4-7897-42a0-9477-6cddf3d5f3d5",
   "metadata": {},
   "outputs": [],
   "source": [
    "# export\n",
    "import ipymock.browser\n",
    "\n",
    "def mock_embed_create(**kwargs):\n",
    "    texts = kwargs['input']\n",
    "    if isinstance(texts, str):\n",
    "        texts = [texts]\n",
    "    data = []\n",
    "    for idx, embedding in enumerate(embeddings_model.encode(texts)):\n",
    "        data.append({\n",
    "            'object': 'embedding',\n",
    "            'embedding': embedding,\n",
    "            'index': idx,\n",
    "        })\n",
    "    return ipymock.browser.attributize({\n",
    "        'object': 'list',\n",
    "        'data': data,\n",
    "        'usage': {\n",
    "            'prompt_tokens': 0,\n",
    "            'total_tokens': 0,\n",
    "        },\n",
    "    })"
   ]
  },
  {
   "cell_type": "markdown",
   "id": "64wtiqmds8r",
   "metadata": {},
   "source": [
    "## OpenAI Embedding API Mock\n",
    "\n",
    "Mock implementation of OpenAI's embedding API using the Chinese text model."
   ]
  },
  {
   "cell_type": "code",
   "execution_count": null,
   "id": "7663a57f-b10f-44f4-8f50-af8d50fa8e77",
   "metadata": {},
   "outputs": [],
   "source": [
    "# export\n",
    "import openai, pytest\n",
    "\n",
    "@pytest.fixture\n",
    "def mock_openai_embed(monkeypatch):\n",
    "    monkeypatch.setattr(openai.Embedding, 'create', mock_embed_create)"
   ]
  }
 ],
 "metadata": {
  "kernelspec": {
   "display_name": "Python 3 (ipykernel)",
   "language": "python",
   "name": "python3"
  }
 },
 "nbformat": 4,
 "nbformat_minor": 5
}
