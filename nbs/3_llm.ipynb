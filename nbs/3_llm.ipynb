{
 "cells": [
  {
   "cell_type": "code",
   "execution_count": null,
   "id": "3739f06f-f39e-42c1-97b9-23dbd4347f24",
   "metadata": {},
   "outputs": [],
   "source": [
    "# default_exp llm"
   ]
  },
  {
   "cell_type": "markdown",
   "id": "2b30fdcc-cafd-4026-ba23-97ba4a64dd5f",
   "metadata": {},
   "source": [
    "# LLM\n",
    "\n",
    "> It provides some mocks from LLM."
   ]
  },
  {
   "cell_type": "code",
   "execution_count": null,
   "id": "d9e11a1d-0987-4953-8d82-877fcf4cdff5",
   "metadata": {},
   "outputs": [],
   "source": [
    "# exporti\n",
    "from sentence_transformers import SentenceTransformer\n",
    "embeddings_model = SentenceTransformer('GanymedeNil/text2vec-large-chinese')"
   ]
  },
  {
   "cell_type": "code",
   "execution_count": null,
   "id": "307245c4-7897-42a0-9477-6cddf3d5f3d5",
   "metadata": {},
   "outputs": [],
   "source": [
    "# export\n",
    "import ipymock.browser\n",
    "\n",
    "def mock_create(**kwargs):\n",
    "    texts = kwargs['input']\n",
    "    if isinstance(texts, str):\n",
    "        texts = [texts]\n",
    "    data = []\n",
    "    for idx, embedding in enumerate(embeddings_model.encode(texts)):\n",
    "        data.append({\n",
    "            'object': 'embedding',\n",
    "            'embedding': embedding,\n",
    "            'index': idx,\n",
    "        })\n",
    "    return ipymock.browser.attributize({\n",
    "        'object': 'list',\n",
    "        'data': data,\n",
    "        'usage': {\n",
    "            'prompt_tokens': 0,\n",
    "            'total_tokens': 0,\n",
    "        },\n",
    "    })"
   ]
  },
  {
   "cell_type": "code",
   "execution_count": null,
   "id": "7663a57f-b10f-44f4-8f50-af8d50fa8e77",
   "metadata": {},
   "outputs": [],
   "source": [
    "# export\n",
    "import openai, pytest\n",
    "\n",
    "@pytest.fixture\n",
    "def mock_openai_embed(monkeypatch):\n",
    "    monkeypatch.setattr(openai.Embedding, 'create', mock_create)"
   ]
  }
 ],
 "metadata": {
  "kernelspec": {
   "display_name": "Python 3 (ipykernel)",
   "language": "python",
   "name": "python3"
  }
 },
 "nbformat": 4,
 "nbformat_minor": 5
}
